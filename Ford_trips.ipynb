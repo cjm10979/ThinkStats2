{
  "nbformat": 4,
  "nbformat_minor": 0,
  "metadata": {
    "colab": {
      "name": "Ford_trips.ipynb",
      "provenance": [],
      "toc_visible": true,
      "authorship_tag": "ABX9TyPEEynGcl+sAEFtKZSfOkAj",
      "include_colab_link": true
    },
    "kernelspec": {
      "name": "python3",
      "display_name": "Python 3"
    }
  },
  "cells": [
    {
      "cell_type": "markdown",
      "metadata": {
        "id": "view-in-github",
        "colab_type": "text"
      },
      "source": [
        "<a href=\"https://colab.research.google.com/github/cjm10979/ThinkStats2/blob/master/Ford_trips.ipynb\" target=\"_parent\"><img src=\"https://colab.research.google.com/assets/colab-badge.svg\" alt=\"Open In Colab\"/></a>"
      ]
    },
    {
      "cell_type": "markdown",
      "metadata": {
        "id": "FQpeqVlWQZvy"
      },
      "source": [
        "Bring in the CSV file and do QA checks\n"
      ]
    },
    {
      "cell_type": "code",
      "metadata": {
        "colab": {
          "base_uri": "https://localhost:8080/"
        },
        "id": "ZHhrpNkWQTUg",
        "outputId": "9dfad5ca-7ab2-4312-9b74-b6c5f2e9a564"
      },
      "source": [
        "import pandas as pd \n",
        "import numpy as np\n",
        "\n",
        "from datetime import datetime\n",
        "\n",
        "#create a lambda function to enable datetime imports\n",
        "dateparse = lambda x: datetime.strptime(x, '%Y-%m-%d %H:%M:%S.%f')\n",
        "\n",
        "#read in the CSV file with a date parser for the date time fields\n",
        "df = pd.read_csv(\"/content/sample_data/2017-fordgobike-tripdata.csv\",\n",
        "                  parse_dates=['start_time','end_time'], date_parser = dateparse)\n",
        "\n",
        "# check the data types of each field to ensure it makes sense\n",
        "df.info()\n",
        "# Also each field has a full set of data with no missing values"
      ],
      "execution_count": null,
      "outputs": [
        {
          "output_type": "stream",
          "text": [
            "<class 'pandas.core.frame.DataFrame'>\n",
            "RangeIndex: 519700 entries, 0 to 519699\n",
            "Data columns (total 13 columns):\n",
            " #   Column                   Non-Null Count   Dtype         \n",
            "---  ------                   --------------   -----         \n",
            " 0   duration_sec             519700 non-null  int64         \n",
            " 1   start_time               519700 non-null  datetime64[ns]\n",
            " 2   end_time                 519700 non-null  datetime64[ns]\n",
            " 3   start_station_id         519700 non-null  int64         \n",
            " 4   start_station_name       519700 non-null  object        \n",
            " 5   start_station_latitude   519700 non-null  float64       \n",
            " 6   start_station_longitude  519700 non-null  float64       \n",
            " 7   end_station_id           519700 non-null  int64         \n",
            " 8   end_station_name         519700 non-null  object        \n",
            " 9   end_station_latitude     519700 non-null  float64       \n",
            " 10  end_station_longitude    519700 non-null  float64       \n",
            " 11  bike_id                  519700 non-null  int64         \n",
            " 12  user_type                519700 non-null  object        \n",
            "dtypes: datetime64[ns](2), float64(4), int64(4), object(3)\n",
            "memory usage: 51.5+ MB\n"
          ],
          "name": "stdout"
        }
      ]
    },
    {
      "cell_type": "code",
      "metadata": {
        "colab": {
          "base_uri": "https://localhost:8080/",
          "height": 702
        },
        "id": "YCuehenvtJZ_",
        "outputId": "d593db2f-f00b-48c7-873e-978398464329"
      },
      "source": [
        "# Check how the data looks\n",
        "df.head(10)\n",
        "# At first glance the data looks ok and well formated"
      ],
      "execution_count": null,
      "outputs": [
        {
          "output_type": "execute_result",
          "data": {
            "text/html": [
              "<div>\n",
              "<style scoped>\n",
              "    .dataframe tbody tr th:only-of-type {\n",
              "        vertical-align: middle;\n",
              "    }\n",
              "\n",
              "    .dataframe tbody tr th {\n",
              "        vertical-align: top;\n",
              "    }\n",
              "\n",
              "    .dataframe thead th {\n",
              "        text-align: right;\n",
              "    }\n",
              "</style>\n",
              "<table border=\"1\" class=\"dataframe\">\n",
              "  <thead>\n",
              "    <tr style=\"text-align: right;\">\n",
              "      <th></th>\n",
              "      <th>duration_sec</th>\n",
              "      <th>start_time</th>\n",
              "      <th>end_time</th>\n",
              "      <th>start_station_id</th>\n",
              "      <th>start_station_name</th>\n",
              "      <th>start_station_latitude</th>\n",
              "      <th>start_station_longitude</th>\n",
              "      <th>end_station_id</th>\n",
              "      <th>end_station_name</th>\n",
              "      <th>end_station_latitude</th>\n",
              "      <th>end_station_longitude</th>\n",
              "      <th>bike_id</th>\n",
              "      <th>user_type</th>\n",
              "    </tr>\n",
              "  </thead>\n",
              "  <tbody>\n",
              "    <tr>\n",
              "      <th>0</th>\n",
              "      <td>80110</td>\n",
              "      <td>2017-12-31 16:57:39.654</td>\n",
              "      <td>2018-01-01 15:12:50.245</td>\n",
              "      <td>74</td>\n",
              "      <td>Laguna St at Hayes St</td>\n",
              "      <td>37.776435</td>\n",
              "      <td>-122.426244</td>\n",
              "      <td>43</td>\n",
              "      <td>San Francisco Public Library (Grove St at Hyde...</td>\n",
              "      <td>37.778768</td>\n",
              "      <td>-122.415929</td>\n",
              "      <td>96</td>\n",
              "      <td>Customer</td>\n",
              "    </tr>\n",
              "    <tr>\n",
              "      <th>1</th>\n",
              "      <td>78800</td>\n",
              "      <td>2017-12-31 15:56:34.842</td>\n",
              "      <td>2018-01-01 13:49:55.617</td>\n",
              "      <td>284</td>\n",
              "      <td>Yerba Buena Center for the Arts (Howard St at ...</td>\n",
              "      <td>37.784872</td>\n",
              "      <td>-122.400876</td>\n",
              "      <td>96</td>\n",
              "      <td>Dolores St at 15th St</td>\n",
              "      <td>37.766210</td>\n",
              "      <td>-122.426614</td>\n",
              "      <td>88</td>\n",
              "      <td>Customer</td>\n",
              "    </tr>\n",
              "    <tr>\n",
              "      <th>2</th>\n",
              "      <td>45768</td>\n",
              "      <td>2017-12-31 22:45:48.411</td>\n",
              "      <td>2018-01-01 11:28:36.883</td>\n",
              "      <td>245</td>\n",
              "      <td>Downtown Berkeley BART</td>\n",
              "      <td>37.870348</td>\n",
              "      <td>-122.267764</td>\n",
              "      <td>245</td>\n",
              "      <td>Downtown Berkeley BART</td>\n",
              "      <td>37.870348</td>\n",
              "      <td>-122.267764</td>\n",
              "      <td>1094</td>\n",
              "      <td>Customer</td>\n",
              "    </tr>\n",
              "    <tr>\n",
              "      <th>3</th>\n",
              "      <td>62172</td>\n",
              "      <td>2017-12-31 17:31:10.636</td>\n",
              "      <td>2018-01-01 10:47:23.531</td>\n",
              "      <td>60</td>\n",
              "      <td>8th St at Ringold St</td>\n",
              "      <td>37.774520</td>\n",
              "      <td>-122.409449</td>\n",
              "      <td>5</td>\n",
              "      <td>Powell St BART Station (Market St at 5th St)</td>\n",
              "      <td>37.783899</td>\n",
              "      <td>-122.408445</td>\n",
              "      <td>2831</td>\n",
              "      <td>Customer</td>\n",
              "    </tr>\n",
              "    <tr>\n",
              "      <th>4</th>\n",
              "      <td>43603</td>\n",
              "      <td>2017-12-31 14:23:14.001</td>\n",
              "      <td>2018-01-01 02:29:57.571</td>\n",
              "      <td>239</td>\n",
              "      <td>Bancroft Way at Telegraph Ave</td>\n",
              "      <td>37.868813</td>\n",
              "      <td>-122.258764</td>\n",
              "      <td>247</td>\n",
              "      <td>Fulton St at Bancroft Way</td>\n",
              "      <td>37.867789</td>\n",
              "      <td>-122.265896</td>\n",
              "      <td>3167</td>\n",
              "      <td>Subscriber</td>\n",
              "    </tr>\n",
              "    <tr>\n",
              "      <th>5</th>\n",
              "      <td>9226</td>\n",
              "      <td>2017-12-31 22:51:00.918</td>\n",
              "      <td>2018-01-01 01:24:47.166</td>\n",
              "      <td>30</td>\n",
              "      <td>San Francisco Caltrain (Townsend St at 4th St)</td>\n",
              "      <td>37.776598</td>\n",
              "      <td>-122.395282</td>\n",
              "      <td>30</td>\n",
              "      <td>San Francisco Caltrain (Townsend St at 4th St)</td>\n",
              "      <td>37.776598</td>\n",
              "      <td>-122.395282</td>\n",
              "      <td>1487</td>\n",
              "      <td>Customer</td>\n",
              "    </tr>\n",
              "    <tr>\n",
              "      <th>6</th>\n",
              "      <td>4507</td>\n",
              "      <td>2017-12-31 23:49:28.422</td>\n",
              "      <td>2018-01-01 01:04:35.619</td>\n",
              "      <td>259</td>\n",
              "      <td>Addison St at Fourth St</td>\n",
              "      <td>37.866249</td>\n",
              "      <td>-122.299371</td>\n",
              "      <td>259</td>\n",
              "      <td>Addison St at Fourth St</td>\n",
              "      <td>37.866249</td>\n",
              "      <td>-122.299371</td>\n",
              "      <td>3539</td>\n",
              "      <td>Customer</td>\n",
              "    </tr>\n",
              "    <tr>\n",
              "      <th>7</th>\n",
              "      <td>4334</td>\n",
              "      <td>2017-12-31 23:46:37.196</td>\n",
              "      <td>2018-01-01 00:58:51.211</td>\n",
              "      <td>284</td>\n",
              "      <td>Yerba Buena Center for the Arts (Howard St at ...</td>\n",
              "      <td>37.784872</td>\n",
              "      <td>-122.400876</td>\n",
              "      <td>284</td>\n",
              "      <td>Yerba Buena Center for the Arts (Howard St at ...</td>\n",
              "      <td>37.784872</td>\n",
              "      <td>-122.400876</td>\n",
              "      <td>1503</td>\n",
              "      <td>Customer</td>\n",
              "    </tr>\n",
              "    <tr>\n",
              "      <th>8</th>\n",
              "      <td>4150</td>\n",
              "      <td>2017-12-31 23:37:07.548</td>\n",
              "      <td>2018-01-01 00:46:18.308</td>\n",
              "      <td>20</td>\n",
              "      <td>Mechanics Monument Plaza (Market St at Bush St)</td>\n",
              "      <td>37.791300</td>\n",
              "      <td>-122.399051</td>\n",
              "      <td>20</td>\n",
              "      <td>Mechanics Monument Plaza (Market St at Bush St)</td>\n",
              "      <td>37.791300</td>\n",
              "      <td>-122.399051</td>\n",
              "      <td>3125</td>\n",
              "      <td>Customer</td>\n",
              "    </tr>\n",
              "    <tr>\n",
              "      <th>9</th>\n",
              "      <td>4238</td>\n",
              "      <td>2017-12-31 23:35:38.145</td>\n",
              "      <td>2018-01-01 00:46:17.053</td>\n",
              "      <td>20</td>\n",
              "      <td>Mechanics Monument Plaza (Market St at Bush St)</td>\n",
              "      <td>37.791300</td>\n",
              "      <td>-122.399051</td>\n",
              "      <td>20</td>\n",
              "      <td>Mechanics Monument Plaza (Market St at Bush St)</td>\n",
              "      <td>37.791300</td>\n",
              "      <td>-122.399051</td>\n",
              "      <td>2543</td>\n",
              "      <td>Customer</td>\n",
              "    </tr>\n",
              "  </tbody>\n",
              "</table>\n",
              "</div>"
            ],
            "text/plain": [
              "   duration_sec              start_time  ... bike_id   user_type\n",
              "0         80110 2017-12-31 16:57:39.654  ...      96    Customer\n",
              "1         78800 2017-12-31 15:56:34.842  ...      88    Customer\n",
              "2         45768 2017-12-31 22:45:48.411  ...    1094    Customer\n",
              "3         62172 2017-12-31 17:31:10.636  ...    2831    Customer\n",
              "4         43603 2017-12-31 14:23:14.001  ...    3167  Subscriber\n",
              "5          9226 2017-12-31 22:51:00.918  ...    1487    Customer\n",
              "6          4507 2017-12-31 23:49:28.422  ...    3539    Customer\n",
              "7          4334 2017-12-31 23:46:37.196  ...    1503    Customer\n",
              "8          4150 2017-12-31 23:37:07.548  ...    3125    Customer\n",
              "9          4238 2017-12-31 23:35:38.145  ...    2543    Customer\n",
              "\n",
              "[10 rows x 13 columns]"
            ]
          },
          "metadata": {
            "tags": []
          },
          "execution_count": 136
        }
      ]
    },
    {
      "cell_type": "code",
      "metadata": {
        "colab": {
          "base_uri": "https://localhost:8080/"
        },
        "id": "5IcZ5OPftNNc",
        "outputId": "e6f792fe-285a-4829-be47-946ab84f821c"
      },
      "source": [
        "# Check that there are no duplicates since there is no trip_id\n",
        "# the data shouls be unique on start_time & bike_id\n",
        "\n",
        "df_check = df[df.duplicated()]\n",
        "print(len(df_check))\n",
        "\n",
        "# Since the output is 0, this means there are no duplicate rows per start_time & bike_id"
      ],
      "execution_count": null,
      "outputs": [
        {
          "output_type": "stream",
          "text": [
            "0\n"
          ],
          "name": "stdout"
        }
      ]
    },
    {
      "cell_type": "markdown",
      "metadata": {
        "id": "75GTbfDH1pW_"
      },
      "source": [
        "How many trips were taken?"
      ]
    },
    {
      "cell_type": "code",
      "metadata": {
        "colab": {
          "base_uri": "https://localhost:8080/"
        },
        "id": "_X1f_yin1ssb",
        "outputId": "4b09e6d7-31a9-4f0e-ec27-7a61d7572eb5"
      },
      "source": [
        "# since there are no duplicates in the data this is just the length of the dataframe\n",
        "print(\"The number of trips in this data set is: \" + str(len(df)))"
      ],
      "execution_count": null,
      "outputs": [
        {
          "output_type": "stream",
          "text": [
            "The number of trips in this data set is: 519700\n"
          ],
          "name": "stdout"
        }
      ]
    },
    {
      "cell_type": "markdown",
      "metadata": {
        "id": "37TOg-pJ2DR7"
      },
      "source": [
        "When was the earliest check-out in the data set?"
      ]
    },
    {
      "cell_type": "code",
      "metadata": {
        "colab": {
          "base_uri": "https://localhost:8080/"
        },
        "id": "6zH6pBEd2KNf",
        "outputId": "dbeac6d9-4952-4dfd-9a7e-16c0b8926ea5"
      },
      "source": [
        "# Since the start_time is in a timestamp format this should be the minimum value\n",
        "print(\"The earliest check-out in the data set was: \" + str(min(df.start_time)))"
      ],
      "execution_count": null,
      "outputs": [
        {
          "output_type": "stream",
          "text": [
            "The earliest check-out in the data set was: 2017-06-28 09:47:36.347000\n"
          ],
          "name": "stdout"
        }
      ]
    },
    {
      "cell_type": "markdown",
      "metadata": {
        "id": "Q1XMExH-2kOG"
      },
      "source": [
        "When was the last bike checked in?"
      ]
    },
    {
      "cell_type": "code",
      "metadata": {
        "colab": {
          "base_uri": "https://localhost:8080/"
        },
        "id": "U66WkPmY2oZB",
        "outputId": "eceab386-d54c-4202-bb24-c429b33751b8"
      },
      "source": [
        "# Since the end_date is in a timestamp format this should be the maximum value\n",
        "print(\"The last bike was checked in at: \" + str(max(df.end_time)))"
      ],
      "execution_count": null,
      "outputs": [
        {
          "output_type": "stream",
          "text": [
            "The last bike was checked in at: 2018-01-01 15:12:50.245000\n"
          ],
          "name": "stdout"
        }
      ]
    },
    {
      "cell_type": "markdown",
      "metadata": {
        "id": "7INdNWFH3Nzn"
      },
      "source": [
        "How long was the longest trip (in duration)?"
      ]
    },
    {
      "cell_type": "code",
      "metadata": {
        "colab": {
          "base_uri": "https://localhost:8080/"
        },
        "id": "4-eDl0TU3WaK",
        "outputId": "bed35aa1-f2a6-4ed7-c192-0cc0755e2c8f"
      },
      "source": [
        "# Since duraction_sec is formated as an integer, this would be the maximum value\n",
        "print(\"The longest trip is duration was: \" + str(max(df.duration_sec)) + ' seconds')\n",
        "print(\"The longest trip is duration was: \" + str(np.floor(max(df.duration_sec)/60)) + ' minutes')\n",
        "print(\"The longest trip is duration was: \" + str(np.round(max(df.duration_sec/60/60), 2)) + ' hours')"
      ],
      "execution_count": null,
      "outputs": [
        {
          "output_type": "stream",
          "text": [
            "The longest trip is duration was: 86369 seconds\n",
            "The longest trip is duration was: 1439.0 minutes\n",
            "The longest trip is duration was: 23.99 hours\n"
          ],
          "name": "stdout"
        }
      ]
    },
    {
      "cell_type": "code",
      "metadata": {
        "colab": {
          "base_uri": "https://localhost:8080/",
          "height": 417
        },
        "id": "RhjkabjTQpmX",
        "outputId": "2c5a16e0-7409-4e3c-9bee-70b536413864"
      },
      "source": [
        "#look at the distribution of duration removing the outliers\n",
        "import matplotlib.pyplot as plt\n",
        "\n",
        "fig1, ax1 = plt.subplots()\n",
        "ax1.set_title('Distribution of Duration')\n",
        "ax1.boxplot(df.duration_sec,  showfliers=False)"
      ],
      "execution_count": null,
      "outputs": [
        {
          "output_type": "execute_result",
          "data": {
            "text/plain": [
              "{'boxes': [<matplotlib.lines.Line2D at 0x7fb54b548710>],\n",
              " 'caps': [<matplotlib.lines.Line2D at 0x7fb54d76d160>,\n",
              "  <matplotlib.lines.Line2D at 0x7fb54d76d4e0>],\n",
              " 'fliers': [],\n",
              " 'means': [],\n",
              " 'medians': [<matplotlib.lines.Line2D at 0x7fb54d76d860>],\n",
              " 'whiskers': [<matplotlib.lines.Line2D at 0x7fb54b548a20>,\n",
              "  <matplotlib.lines.Line2D at 0x7fb54b548da0>]}"
            ]
          },
          "metadata": {
            "tags": []
          },
          "execution_count": 143
        },
        {
          "output_type": "display_data",
          "data": {
            "image/png": "[encoded data removed]",
            "text/plain": [
              "<Figure size 432x288 with 1 Axes>"
            ]
          },
          "metadata": {
            "tags": [],
            "needs_background": "light"
          }
        }
      ]
    },
    {
      "cell_type": "markdown",
      "metadata": {
        "id": "k94AVOsP6ep1"
      },
      "source": [
        "The box plot shows that the median duration is around 600 seconds and there a validity of one duration over 86k is highly suspicious.\n",
        "\n",
        "Perhaps the bike was stolen or the docking station had a fault.\n",
        "\n",
        "What are the other distribution stats for this variable?"
      ]
    },
    {
      "cell_type": "code",
      "metadata": {
        "colab": {
          "base_uri": "https://localhost:8080/"
        },
        "id": "iRJCVbFvUpz3",
        "outputId": "05b0c2fe-50f8-4c5e-dbf5-3b6b883238dd"
      },
      "source": [
        "df.duration_sec.describe()"
      ],
      "execution_count": null,
      "outputs": [
        {
          "output_type": "execute_result",
          "data": {
            "text/plain": [
              "count    519700.000000\n",
              "mean       1099.009521\n",
              "std        3444.146451\n",
              "min          61.000000\n",
              "25%         382.000000\n",
              "50%         596.000000\n",
              "75%         938.000000\n",
              "max       86369.000000\n",
              "Name: duration_sec, dtype: float64"
            ]
          },
          "metadata": {
            "tags": []
          },
          "execution_count": 145
        }
      ]
    },
    {
      "cell_type": "markdown",
      "metadata": {
        "id": "LJAeGmUNU4MK"
      },
      "source": [
        "Also, there are no negative durations. This is a good sign that daylight savings time changes did not adversely affect this data. Although a time change did occur in this time period it would be better to use UTC formating for the San Francisco location to ensure that supurious data does not arise as a consequence of clock changes."
      ]
    },
    {
      "cell_type": "markdown",
      "metadata": {
        "id": "lC8iqEAo6Qap"
      },
      "source": [
        "How long was the shortest trip?"
      ]
    },
    {
      "cell_type": "code",
      "metadata": {
        "colab": {
          "base_uri": "https://localhost:8080/"
        },
        "id": "ATE0rBXq6NPy",
        "outputId": "092069d2-1ab4-45c2-9f6d-23e4548c48c2"
      },
      "source": [
        "print(\"The shortest trip is duration was: \" + str(min(df.duration_sec)) + ' seconds')"
      ],
      "execution_count": null,
      "outputs": [
        {
          "output_type": "stream",
          "text": [
            "The shortest trip is duration was: 61 seconds\n"
          ],
          "name": "stdout"
        }
      ]
    },
    {
      "cell_type": "markdown",
      "metadata": {
        "id": "ujUJVhPO6udu"
      },
      "source": [
        "Again this seems a really short time - maybe there was an error with start time or end time of the docking station. If it really was a short journey this could be checked by examining the start & end stations to see if they are really close."
      ]
    },
    {
      "cell_type": "markdown",
      "metadata": {
        "id": "258i3u9x7ZDv"
      },
      "source": [
        "How many stations are there?"
      ]
    },
    {
      "cell_type": "code",
      "metadata": {
        "colab": {
          "base_uri": "https://localhost:8080/"
        },
        "id": "cITNLQbz7bio",
        "outputId": "48d8059a-5898-4ca7-dfb5-30c176946baa"
      },
      "source": [
        "# This can be checked by examining the number of start stations and end stations\n",
        "print(\"The number of unique start stations are: \" + str(len(df.start_station_id.unique())))"
      ],
      "execution_count": null,
      "outputs": [
        {
          "output_type": "stream",
          "text": [
            "The number of unique start stations are: 272\n"
          ],
          "name": "stdout"
        }
      ]
    },
    {
      "cell_type": "code",
      "metadata": {
        "colab": {
          "base_uri": "https://localhost:8080/"
        },
        "id": "Lo3fxi1r75C7",
        "outputId": "744b7583-1c22-44b4-aab8-c0ae9679fe48"
      },
      "source": [
        "# Find the number of end stations\n",
        "print(\"The number of unique end stations are: \" + str(len(df.end_station_id.unique())))"
      ],
      "execution_count": null,
      "outputs": [
        {
          "output_type": "stream",
          "text": [
            "The number of unique end stations are: 272\n"
          ],
          "name": "stdout"
        }
      ]
    },
    {
      "cell_type": "code",
      "metadata": {
        "id": "NEO4kxjB8M66"
      },
      "source": [
        "# Are these actually the same 272 stations or different ones?\n",
        "# Each set of start and end stations needs to be sorted in the same way\n",
        "end=df['end_station_id'].unique()\n",
        "end = np.sort(end)"
      ],
      "execution_count": null,
      "outputs": []
    },
    {
      "cell_type": "code",
      "metadata": {
        "id": "5_1cheK88e4i"
      },
      "source": [
        "start = df['start_station_id'].unique()\n",
        "start= np.sort(start)"
      ],
      "execution_count": null,
      "outputs": []
    },
    {
      "cell_type": "code",
      "metadata": {
        "colab": {
          "base_uri": "https://localhost:8080/"
        },
        "id": "iLOREUbS-XKw",
        "outputId": "892177dc-327b-4acc-8907-8d509c6c2b78"
      },
      "source": [
        "np.array_equal(start,end)\n",
        "# Since this value is true it means that the start station are the same as the end stations"
      ],
      "execution_count": null,
      "outputs": [
        {
          "output_type": "execute_result",
          "data": {
            "text/plain": [
              "True"
            ]
          },
          "metadata": {
            "tags": []
          },
          "execution_count": 88
        }
      ]
    },
    {
      "cell_type": "code",
      "metadata": {
        "colab": {
          "base_uri": "https://localhost:8080/"
        },
        "id": "LBQkrdHu-gJ-",
        "outputId": "762c9a6c-2328-4be9-b16f-c0318268ce4d"
      },
      "source": [
        "print(\"The number of stations (either start or end) are: \" + str(len(df.start_station_id.unique())))"
      ],
      "execution_count": null,
      "outputs": [
        {
          "output_type": "stream",
          "text": [
            "The number of stations (either start or end) are: 272\n"
          ],
          "name": "stdout"
        }
      ]
    },
    {
      "cell_type": "markdown",
      "metadata": {
        "id": "MhpnK02cBMdJ"
      },
      "source": [
        "How many stations were active in the first 30 days of service?"
      ]
    },
    {
      "cell_type": "code",
      "metadata": {
        "colab": {
          "base_uri": "https://localhost:8080/"
        },
        "id": "La4KMu9QBScJ",
        "outputId": "2bb638b4-4908-4652-9d5b-2a05035d213c"
      },
      "source": [
        "# First find the date of the first day of service\n",
        "# Then find the date 30 days later + adjust so the period ends just before midnight\n",
        "# To cover for a full day\n",
        "import datetime\n",
        "\n",
        "\n",
        "start_date = min(df['start_time'])\n",
        "end_date30 = start_date + datetime.timedelta(days=30, hours=14, minutes=12, seconds=23)\n",
        "\n",
        "print(\"The first day of service was: \" + str(start_date) + \" and 30 days later it was: \" + str(end_date30))"
      ],
      "execution_count": null,
      "outputs": [
        {
          "output_type": "stream",
          "text": [
            "The first day of service was: 2017-06-28 09:47:36.347000 and 30 days later it was: 2017-07-28 23:59:59.347000\n"
          ],
          "name": "stdout"
        }
      ]
    },
    {
      "cell_type": "code",
      "metadata": {
        "colab": {
          "base_uri": "https://localhost:8080/"
        },
        "id": "AKR-yiXJC9Ms",
        "outputId": "21eb4929-5ef2-4a3d-db3c-3e30435d390c"
      },
      "source": [
        "# Now use these dates to subset the df\n",
        "first_30 = df[(df['start_time'] >= start_date) & (df['start_time'] <= end_date30)]\n",
        "\n",
        "# Now find the unqiue number of start_station_ids\n",
        "\n",
        "print(\"The number of stations that were active in the first 30 days were: \" + str(len(first_30.start_station_id.unique())))\n"
      ],
      "execution_count": null,
      "outputs": [
        {
          "output_type": "stream",
          "text": [
            "The number of stations that were active in the first 30 days were: 147\n"
          ],
          "name": "stdout"
        }
      ]
    },
    {
      "cell_type": "markdown",
      "metadata": {
        "id": "pim_RrBSN1rE"
      },
      "source": [
        "How many stations were active in the last month of service"
      ]
    },
    {
      "cell_type": "code",
      "metadata": {
        "colab": {
          "base_uri": "https://localhost:8080/"
        },
        "id": "zOb3fZ4KN7Hz",
        "outputId": "5ea8fcc8-b7c3-42d0-e8ed-3ac1a704d9e8"
      },
      "source": [
        "# First find the date of the last day of service \n",
        "# And then go back to the December 1st to get the last month\n",
        "last_day = max(df['start_time'])\n",
        "first_day = last_day + datetime.timedelta(days=-31, minutes= 1)\n",
        "\n",
        "print(\"The last_day of service was: \" + str(last_day) + \" and the start of the month was: \" + str(first_day))\n"
      ],
      "execution_count": null,
      "outputs": [
        {
          "output_type": "stream",
          "text": [
            "The last_day of service was: 2017-12-31 23:59:01.261000 and the start of the month was: 2017-12-01 00:00:01.261000\n"
          ],
          "name": "stdout"
        }
      ]
    },
    {
      "cell_type": "code",
      "metadata": {
        "colab": {
          "base_uri": "https://localhost:8080/"
        },
        "id": "JU5JvV9OOhvE",
        "outputId": "f3a4cc34-2934-44a1-ae6c-38e8f65754ed"
      },
      "source": [
        "# Now use these dates to subset the df\n",
        "last_30 = df[(df['start_time'] >= first_day) & (df['start_time'] <= last_day)]\n",
        "\n",
        "# Now find the unqiue number of start_station_ids\n",
        "\n",
        "print(\"The number of stations that were active in December were: \" + str(len(last_30.start_station_id.unique())))\n"
      ],
      "execution_count": null,
      "outputs": [
        {
          "output_type": "stream",
          "text": [
            "The number of stations that were active in December were: 267\n"
          ],
          "name": "stdout"
        }
      ]
    },
    {
      "cell_type": "markdown",
      "metadata": {
        "id": "WLUnDdwEV34X"
      },
      "source": [
        "Between which two stations were the most journeys?"
      ]
    },
    {
      "cell_type": "code",
      "metadata": {
        "colab": {
          "base_uri": "https://localhost:8080/"
        },
        "id": "fkghL1MiVnmb",
        "outputId": "be785e93-6edf-415f-9a84-a53e869b83f1"
      },
      "source": [
        "# Create a new field which is a concatenation of the start_station_id and the end_station_id\n",
        "df['journey'] = df['start_station_id'].astype(str) + '_' + df['end_station_id'].astype(str)\n",
        "df.journey.head()"
      ],
      "execution_count": null,
      "outputs": [
        {
          "output_type": "execute_result",
          "data": {
            "text/plain": [
              "0      74_43\n",
              "1     284_96\n",
              "2    245_245\n",
              "3       60_5\n",
              "4    239_247\n",
              "Name: journey, dtype: object"
            ]
          },
          "metadata": {
            "tags": []
          },
          "execution_count": 152
        }
      ]
    },
    {
      "cell_type": "code",
      "metadata": {
        "id": "0yF-8SvFVw6J"
      },
      "source": [
        "journey_counts = df.journey.value_counts(normalize=True, ascending=False)"
      ],
      "execution_count": null,
      "outputs": []
    },
    {
      "cell_type": "code",
      "metadata": {
        "colab": {
          "base_uri": "https://localhost:8080/"
        },
        "id": "uPbTvg-rXKEb",
        "outputId": "dec9f0ab-1b8e-48ae-d932-5e6cc2847767"
      },
      "source": [
        "journey_counts"
      ],
      "execution_count": null,
      "outputs": [
        {
          "output_type": "execute_result",
          "data": {
            "text/plain": [
              "15_6       0.006434\n",
              "6_16       0.003450\n",
              "6_15       0.003337\n",
              "81_15      0.003244\n",
              "48_21      0.002904\n",
              "             ...   \n",
              "112_101    0.000002\n",
              "190_215    0.000002\n",
              "126_29     0.000002\n",
              "159_234    0.000002\n",
              "267_180    0.000002\n",
              "Name: journey, Length: 20027, dtype: float64"
            ]
          },
          "metadata": {
            "tags": []
          },
          "execution_count": 159
        }
      ]
    },
    {
      "cell_type": "markdown",
      "metadata": {
        "id": "jcap-mQH3d5k"
      },
      "source": [
        "The most frequent journey is from start station 15 to end station 6.\n",
        "What are these locations in English?"
      ]
    },
    {
      "cell_type": "code",
      "metadata": {
        "colab": {
          "base_uri": "https://localhost:8080/"
        },
        "id": "PAWuBsY93r6q",
        "outputId": "1d8c1d21-a29c-4ec8-8650-295da1fe9b89"
      },
      "source": [
        "start_station = df['start_station_name'][(df['start_station_id'] == 15)].unique()\n",
        "\n",
        "print(\"The most journeys started at: \" + str(start_station).strip('[]'))"
      ],
      "execution_count": null,
      "outputs": [
        {
          "output_type": "stream",
          "text": [
            "The most journeys started at: 'San Francisco Ferry Building (Harry Bridges Plaza)'\n"
          ],
          "name": "stdout"
        }
      ]
    },
    {
      "cell_type": "code",
      "metadata": {
        "colab": {
          "base_uri": "https://localhost:8080/"
        },
        "id": "-Rke215N4vGG",
        "outputId": "e13d6cd5-932e-4792-d310-168e5b88b65e"
      },
      "source": [
        "end_station =df['end_station_name'][(df['end_station_id'] == 6)].unique()\n",
        "print(\"The most journeys ended at: \" + str(end_station).strip('[]'))"
      ],
      "execution_count": null,
      "outputs": [
        {
          "output_type": "stream",
          "text": [
            "The most journeys ended at: 'The Embarcadero at Sansome St'\n"
          ],
          "name": "stdout"
        }
      ]
    },
    {
      "cell_type": "code",
      "metadata": {
        "colab": {
          "base_uri": "https://localhost:8080/"
        },
        "id": "bLc4Exgw6mE5",
        "outputId": "d75e7547-3904-4e4a-c08e-6c5282dd4d87"
      },
      "source": [
        "print('Therefore the most common journey combination was from' + str(start_station).strip('[]') +\n",
        "'to ' + str(end_station).strip('[]') )"
      ],
      "execution_count": null,
      "outputs": [
        {
          "output_type": "stream",
          "text": [
            "Therefore the most common journey combination was from'San Francisco Ferry Building (Harry Bridges Plaza)'to 'The Embarcadero at Sansome St'\n"
          ],
          "name": "stdout"
        }
      ]
    },
    {
      "cell_type": "markdown",
      "metadata": {
        "id": "_RhXMizT8BkX"
      },
      "source": [
        "what are the most common journeys for Subscribers?\n"
      ]
    },
    {
      "cell_type": "code",
      "metadata": {
        "colab": {
          "base_uri": "https://localhost:8080/"
        },
        "id": "rsaeelx_7_8O",
        "outputId": "53279cd1-a69e-4daa-9677-4542c2f1d98e"
      },
      "source": [
        "# Subset the data frame to only get subscribers\n",
        "subscribers = df[df['user_type'] == 'Subscriber']\n",
        "# Now work out the most prevalent journeys for Subscribers\n",
        "subscribers.journey.value_counts(normalize=False, ascending=False)"
      ],
      "execution_count": null,
      "outputs": [
        {
          "output_type": "execute_result",
          "data": {
            "text/plain": [
              "15_6       1697\n",
              "6_16       1616\n",
              "81_15      1499\n",
              "48_21      1478\n",
              "21_48      1437\n",
              "           ... \n",
              "213_224       1\n",
              "154_162       1\n",
              "80_10         1\n",
              "156_218       1\n",
              "223_147       1\n",
              "Name: journey, Length: 18430, dtype: int64"
            ]
          },
          "metadata": {
            "tags": []
          },
          "execution_count": 202
        }
      ]
    },
    {
      "cell_type": "code",
      "metadata": {
        "colab": {
          "base_uri": "https://localhost:8080/"
        },
        "id": "IuuZIGPt8cvy",
        "outputId": "9db81fc7-590d-48c1-eafb-c71bcbbeb4a1"
      },
      "source": [
        "# Subset the data frame to only get customers\n",
        "customers = df[df['user_type'] == 'Customer']\n",
        "# Now work out the most prevalent journeys for customers\n",
        "customers.journey.value_counts(normalize=False, ascending=False)"
      ],
      "execution_count": null,
      "outputs": [
        {
          "output_type": "execute_result",
          "data": {
            "text/plain": [
              "15_6       1647\n",
              "6_6        1048\n",
              "6_15        710\n",
              "15_15       690\n",
              "70_70       621\n",
              "           ... \n",
              "144_3         1\n",
              "80_56         1\n",
              "71_107        1\n",
              "108_59        1\n",
              "108_120       1\n",
              "Name: journey, Length: 14830, dtype: int64"
            ]
          },
          "metadata": {
            "tags": []
          },
          "execution_count": 203
        }
      ]
    },
    {
      "cell_type": "code",
      "metadata": {
        "colab": {
          "base_uri": "https://localhost:8080/"
        },
        "id": "SIn798S1-Udx",
        "outputId": "747f5473-916a-4628-c3af-1bb9163af3da"
      },
      "source": [
        "print(\"Both customers and subscribers have the most prevalent journey time of: \")\n",
        "print(str(start_station).strip('[]') + \"to \" + str(end_station).strip('[]'))"
      ],
      "execution_count": null,
      "outputs": [
        {
          "output_type": "stream",
          "text": [
            "Both customers and subscribers have the most prevalent journey time of: \n",
            "'San Francisco Ferry Building (Harry Bridges Plaza)'to 'The Embarcadero at Sansome St'\n"
          ],
          "name": "stdout"
        }
      ]
    },
    {
      "cell_type": "markdown",
      "metadata": {
        "id": "YlS59xqUDlrr"
      },
      "source": [
        "Both Subscribers & Customers have the most prevalent journey type of San Francisco Ferry Building (Harrry Bridges Plaza) to The Embarcadero at Sansome St.\n",
        "\n",
        "However, there are quite a few more customer journeys for Subscribers compared to Customers (18430 v 14830).\n",
        "\n",
        "I would want to look at the time of day, day of week and month to understand whether subscribers and customers are using the service at the same time to ensure that availabilty of the bikes does not become an issue.\n",
        "\n",
        "It maybe a good idea to use a sankey chart to gain further understanding of the key start & end stations from a more visual perspective."
      ]
    }
  ]
}